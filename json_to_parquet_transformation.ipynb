{
 "cells": [
  {
   "cell_type": "code",
   "execution_count": 7,
   "id": "1bc5deda",
   "metadata": {},
   "outputs": [],
   "source": [
    "import os\n",
    "a = os.listdir()"
   ]
  },
  {
   "cell_type": "code",
   "execution_count": 9,
   "id": "41008211",
   "metadata": {},
   "outputs": [],
   "source": [
    "import pandas as pd\n",
    "for i in a:\n",
    "    split = i.split('.')\n",
    "    if(split[1]=='json'):\n",
    "        file = pd.read_json(i)\n",
    "        data = pd.json_normalize(file['items'])\n",
    "        data['id'] = data['id'].astype(int)\n",
    "        file_name = 'parquet_files.lm/'+split[0]+'.parquet'\n",
    "        data.to_parquet(file_name)"
   ]
  },
  {
   "cell_type": "code",
   "execution_count": null,
   "id": "837c8402",
   "metadata": {},
   "outputs": [],
   "source": []
  }
 ],
 "metadata": {
  "kernelspec": {
   "display_name": "Python 3 (ipykernel)",
   "language": "python",
   "name": "python3"
  },
  "language_info": {
   "codemirror_mode": {
    "name": "ipython",
    "version": 3
   },
   "file_extension": ".py",
   "mimetype": "text/x-python",
   "name": "python",
   "nbconvert_exporter": "python",
   "pygments_lexer": "ipython3",
   "version": "3.9.12"
  }
 },
 "nbformat": 4,
 "nbformat_minor": 5
}
